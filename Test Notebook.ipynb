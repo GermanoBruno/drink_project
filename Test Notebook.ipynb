{
 "cells": [
  {
   "cell_type": "code",
   "execution_count": 1,
   "metadata": {},
   "outputs": [],
   "source": [
    "from scrape import *"
   ]
  },
  {
   "cell_type": "code",
   "execution_count": 6,
   "metadata": {},
   "outputs": [
    {
     "name": "stdout",
     "output_type": "stream",
     "text": [
      "Alexander\n",
      "Alexander the Great\n",
      "Apricot Flip\n",
      "Apricot Lady\n",
      "Arancia Julius\n",
      "Arigatou, Gomen Nasai\n"
     ]
    },
    {
     "data": {
      "text/plain": [
       "[<scrape.Recipe at 0x1defa2afbb0>,\n",
       " <scrape.Recipe at 0x1defa1e04c0>,\n",
       " <scrape.Recipe at 0x1defa2d4e20>,\n",
       " <scrape.Recipe at 0x1def87c5b50>,\n",
       " <scrape.Recipe at 0x1defa33ab80>,\n",
       " <scrape.Recipe at 0x1def8523490>]"
      ]
     },
     "execution_count": 6,
     "metadata": {},
     "output_type": "execute_result"
    }
   ],
   "source": [
    "\n",
    "drinkList = []\n",
    "\n",
    "content = getPageContent('https://cocktailpartyapp.com/drinks/')\n",
    "catsList = getCategories(content)\n",
    "i = 0\n",
    "for cat in catsList:\n",
    "\tgetPageContent(cat)\n",
    "\tdrinksUrl = getDrinkList(getPageContent(cat))\n",
    "\tfor drink in drinksUrl:\n",
    "\t\tnewDrink = getDrinkContent(getPageContent(drink))\n",
    "\t\tdrinkList.append(newDrink)\n",
    "\t\ti += 1\n",
    "\t\tif i > 5:\n",
    "\t\t\tbreak\n",
    "\t\n",
    "\tbreak\n",
    "drinkList\n"
   ]
  },
  {
   "cell_type": "code",
   "execution_count": 7,
   "metadata": {},
   "outputs": [
    {
     "data": {
      "text/plain": [
       "[['Alexander',\n",
       "  [['2', 'parts', 'Gin'],\n",
       "   ['1', 'part', 'Crème de cacao'],\n",
       "   ['1', 'part', 'Sweet cream']],\n",
       "  'Shake with ice and strain into a chilled cocktail glass, coupé, or whatever cute dainty vessel you have on hand. We like it with a bunch of fresh ground nutmeg on top.'],\n",
       " ['Alexander the Great',\n",
       "  [['1½', 'parts', 'Brandy'],\n",
       "   ['½', 'part', 'Crème de cacao'],\n",
       "   ['½', 'part', 'Coffee liqueur'],\n",
       "   ['½', 'part', 'Sweet cream']],\n",
       "  'Shake all ingredients with ice and strain into a small chilled cocktail or coupe glass.'],\n",
       " ['Apricot Flip',\n",
       "  [['2', 'parts', 'Cognac'],\n",
       "   ['1', 'part', 'Apricot liqueur'],\n",
       "   ['½', 'part', 'Simple syrup'],\n",
       "   ['1', 'whole', 'Egg']],\n",
       "  'Dry-shake all ingredients first without ice, then again with ice added. Double-strain through a fine mesh strainer into a chilled cocktail or coupe glass. Garnish with a dusting of freshly-grated nutmeg.'],\n",
       " ['Apricot Lady',\n",
       "  [['1', 'part', 'Light rum'],\n",
       "   ['1', 'part', 'Apricot liqueur'],\n",
       "   ['½', 'part', 'Egg\\n\\t\\t\\t\\t\\t\\t\\t\\t\\t\\t\\twhite\\t\\t\\t\\t\\t\\t\\t\\t\\t\\t'],\n",
       "   ['½', 'part', 'Lime\\n\\t\\t\\t\\t\\t\\t\\t\\t\\t\\t\\tjuice\\t\\t\\t\\t\\t\\t\\t\\t\\t\\t'],\n",
       "   ['¼', 'part', 'Orange curaçao']],\n",
       "  'Dry-shake all ingredients, then add ice and shake again. Double-strain into a small, chilled cocktail or coupe glass.'],\n",
       " ['Arancia Julius',\n",
       "  [['1½', 'parts', 'Vanilla anise liqueur'],\n",
       "   ['½', 'part', 'Genever'],\n",
       "   ['2', 'parts', 'Orange\\n\\t\\t\\t\\t\\t\\t\\t\\t\\t\\t\\tjuice\\t\\t\\t\\t\\t\\t\\t\\t\\t\\t'],\n",
       "   ['½', 'part', 'Pineapple\\n\\t\\t\\t\\t\\t\\t\\t\\t\\t\\t\\tjuice\\t\\t\\t\\t\\t\\t\\t\\t\\t\\t'],\n",
       "   ['½', 'part', 'Sweet cream'],\n",
       "   ['1', 'part', 'Sparkling water']],\n",
       "  'Shake everything (except the sparkling water) with ice.\\nPour half of the sparkling water into a tall glass. Strain the mix into the glass, add ice, and top with the remaining sparkling water.'],\n",
       " ['Arigatou, Gomen Nasai',\n",
       "  [['2', 'parts', 'Nigori sake'],\n",
       "   ['¾', 'part', 'Lemon\\n\\t\\t\\t\\t\\t\\t\\t\\t\\t\\t\\tjuice\\t\\t\\t\\t\\t\\t\\t\\t\\t\\t'],\n",
       "   ['½', 'part', 'Strawberry syrup'],\n",
       "   ['½', 'part', 'Orgeat'],\n",
       "   ['1', 'whole', 'Egg\\n\\t\\t\\t\\t\\t\\t\\t\\t\\t\\t\\twhite\\t\\t\\t\\t\\t\\t\\t\\t\\t\\t']],\n",
       "  'Shake all ingredients with ice and strain into a chilled cocktail or coupe glass. Garnish with Japanese spice mix or freshly-ground pepper.']]"
      ]
     },
     "execution_count": 7,
     "metadata": {},
     "output_type": "execute_result"
    }
   ],
   "source": [
    "# drink_list_to_df(drinkList)\n",
    "drinkList = [recipe.recipe_to_list() for recipe in drinkList]\n",
    "drinkList"
   ]
  },
  {
   "cell_type": "code",
   "execution_count": 12,
   "metadata": {},
   "outputs": [
    {
     "data": {
      "text/html": [
       "<div>\n",
       "<style scoped>\n",
       "    .dataframe tbody tr th:only-of-type {\n",
       "        vertical-align: middle;\n",
       "    }\n",
       "\n",
       "    .dataframe tbody tr th {\n",
       "        vertical-align: top;\n",
       "    }\n",
       "\n",
       "    .dataframe thead th {\n",
       "        text-align: right;\n",
       "    }\n",
       "</style>\n",
       "<table border=\"1\" class=\"dataframe\">\n",
       "  <thead>\n",
       "    <tr style=\"text-align: right;\">\n",
       "      <th></th>\n",
       "      <th>name</th>\n",
       "      <th>ingredients</th>\n",
       "      <th>instructions</th>\n",
       "      <th>ingredients_quantity</th>\n",
       "    </tr>\n",
       "  </thead>\n",
       "  <tbody>\n",
       "    <tr>\n",
       "      <th>0</th>\n",
       "      <td>Alexander</td>\n",
       "      <td>[[2, parts, Gin], [1, part, Crème de cacao], [...</td>\n",
       "      <td>Shake with ice and strain into a chilled cockt...</td>\n",
       "      <td>3</td>\n",
       "    </tr>\n",
       "    <tr>\n",
       "      <th>1</th>\n",
       "      <td>Alexander the Great</td>\n",
       "      <td>[[1½, parts, Brandy], [½, part, Crème de cacao...</td>\n",
       "      <td>Shake all ingredients with ice and strain into...</td>\n",
       "      <td>4</td>\n",
       "    </tr>\n",
       "    <tr>\n",
       "      <th>2</th>\n",
       "      <td>Apricot Flip</td>\n",
       "      <td>[[2, parts, Cognac], [1, part, Apricot liqueur...</td>\n",
       "      <td>Dry-shake all ingredients first without ice, t...</td>\n",
       "      <td>4</td>\n",
       "    </tr>\n",
       "    <tr>\n",
       "      <th>3</th>\n",
       "      <td>Apricot Lady</td>\n",
       "      <td>[[1, part, Light rum], [1, part, Apricot lique...</td>\n",
       "      <td>Dry-shake all ingredients, then add ice and sh...</td>\n",
       "      <td>5</td>\n",
       "    </tr>\n",
       "    <tr>\n",
       "      <th>4</th>\n",
       "      <td>Arancia Julius</td>\n",
       "      <td>[[1½, parts, Vanilla anise liqueur], [½, part,...</td>\n",
       "      <td>Shake everything (except the sparkling water) ...</td>\n",
       "      <td>6</td>\n",
       "    </tr>\n",
       "    <tr>\n",
       "      <th>5</th>\n",
       "      <td>Arigatou, Gomen Nasai</td>\n",
       "      <td>[[2, parts, Nigori sake], [¾, part, Lemon\\n\\t\\...</td>\n",
       "      <td>Shake all ingredients with ice and strain into...</td>\n",
       "      <td>5</td>\n",
       "    </tr>\n",
       "  </tbody>\n",
       "</table>\n",
       "</div>"
      ],
      "text/plain": [
       "                    name                                        ingredients  \\\n",
       "0              Alexander  [[2, parts, Gin], [1, part, Crème de cacao], [...   \n",
       "1    Alexander the Great  [[1½, parts, Brandy], [½, part, Crème de cacao...   \n",
       "2           Apricot Flip  [[2, parts, Cognac], [1, part, Apricot liqueur...   \n",
       "3           Apricot Lady  [[1, part, Light rum], [1, part, Apricot lique...   \n",
       "4         Arancia Julius  [[1½, parts, Vanilla anise liqueur], [½, part,...   \n",
       "5  Arigatou, Gomen Nasai  [[2, parts, Nigori sake], [¾, part, Lemon\\n\\t\\...   \n",
       "\n",
       "                                        instructions  ingredients_quantity  \n",
       "0  Shake with ice and strain into a chilled cockt...                     3  \n",
       "1  Shake all ingredients with ice and strain into...                     4  \n",
       "2  Dry-shake all ingredients first without ice, t...                     4  \n",
       "3  Dry-shake all ingredients, then add ice and sh...                     5  \n",
       "4  Shake everything (except the sparkling water) ...                     6  \n",
       "5  Shake all ingredients with ice and strain into...                     5  "
      ]
     },
     "execution_count": 12,
     "metadata": {},
     "output_type": "execute_result"
    }
   ],
   "source": [
    "df = drink_list_to_df(drinkList)\n",
    "# df[\"ingredient_list\"] = df[\"ingredients\"]\n",
    "df[\"ingredients_quantity\"] = df[\"ingredients\"].map(len)\n",
    "df"
   ]
  },
  {
   "cell_type": "code",
   "execution_count": null,
   "metadata": {},
   "outputs": [],
   "source": [
    "\n",
    "#for i in drinkList:\n",
    "#\tprint(i.getName())\n",
    "\n",
    "\n",
    "#content = getPageContent('https://cocktailpartyapp.com/drink-category/creamy-cocktails/')\n",
    "#drinksList = getDrinkList(content)\n",
    "\n",
    "#content = getPageContent('https://cocktailpartyapp.com/drinks/alexander/')\n",
    "#drink = getDrinkContent(content)\n",
    "\n",
    "#print(drink)"
   ]
  }
 ],
 "metadata": {
  "kernelspec": {
   "display_name": "drinks",
   "language": "python",
   "name": "python3"
  },
  "language_info": {
   "codemirror_mode": {
    "name": "ipython",
    "version": 3
   },
   "file_extension": ".py",
   "mimetype": "text/x-python",
   "name": "python",
   "nbconvert_exporter": "python",
   "pygments_lexer": "ipython3",
   "version": "3.9.18"
  }
 },
 "nbformat": 4,
 "nbformat_minor": 2
}
